{
 "cells": [
  {
   "cell_type": "code",
   "execution_count": 1,
   "id": "10e6851e-2f25-437b-8f64-b7f07e4f07bc",
   "metadata": {
    "tags": []
   },
   "outputs": [
    {
     "name": "stdout",
     "output_type": "stream",
     "text": [
      "/Users/amyle/UNIPD/PhD/DiCE/Consulta\n"
     ]
    }
   ],
   "source": [
    "%cd /Users/amyle/UNIPD/PhD/DiCE/Consulta/"
   ]
  },
  {
   "cell_type": "code",
   "execution_count": 2,
   "id": "035d23c6-2c65-4fa5-8aec-0cbcb661537a",
   "metadata": {
    "tags": []
   },
   "outputs": [],
   "source": [
    "import pandas as pd\n",
    "import numpy as np\n",
    "from datetime import datetime\n",
    "from dateutil import parser\n",
    "from collections import Counter\n",
    "from tqdm import tqdm\n",
    "\n",
    "from utils.pre_processing_functions import getting_total_time\n",
    "from utils.simulation_functions import preparing_data_for_simulation, simulation_generation, getting_final_data\n",
    "\n",
    "pd.options.mode.chained_assignment = None  # default='warn'\n",
    "\n",
    "# Suppress all warnings\n",
    "import warnings\n",
    "warnings.filterwarnings(\"ignore\")\n",
    "%load_ext autoreload\n",
    "%autoreload 2"
   ]
  },
  {
   "cell_type": "code",
   "execution_count": 3,
   "id": "fdd2c8ce-63e4-45b0-afc2-0db73aac20b2",
   "metadata": {
    "tags": []
   },
   "outputs": [],
   "source": [
    "KPI = \"total_time\" \n",
    "SECONDS_TO_HOURS = 1/(60 * 60)\n",
    "SECONDS_TO_DAYS = 1/(60 * 60 * 24)\n",
    "WINDOW_SIZE = 3\n",
    "\n",
    "# # For BPI17\n",
    "# case_id_name = 'case:concept:name'  # The case identifier column name.\n",
    "# start_date_name = 'start:timestamp_'\n",
    "# end_date_name = 'time:timestamp_'\n",
    "# activity_column_name = \"concept:name\"\n",
    "# resource_column_name = \"org:resource\"\n",
    "# outcome_name = 'leadtime'\n",
    "\n",
    "# For BAC\n",
    "case_id_name = 'REQUEST_ID'\n",
    "activity_column_name = 'ACTIVITY'\n",
    "resource_column_name = 'CE_UO'\n",
    "start_date_name = \"start:timestamp\"\n",
    "end_date_name = \"time:timestamp\"\n",
    "outcome_name = \"leadtime\"\n",
    "\n",
    "# # BPI13\n",
    "# case_id_name = 'SR_Number'  # The case identifier column name.\n",
    "# end_date_name = 'timestamp'\n",
    "# activity_column_name = \"ACTIVITY\"\n",
    "# resource_column_name = \"Involved_ST\"\n",
    "# outcome_name = \"lead_time\"\n",
    "# start_date_name = \"start:timestamp\"\n",
    "# end_date_name = \"time:timestamp\""
   ]
  },
  {
   "cell_type": "markdown",
   "id": "f4c756ab-7e2f-4f8a-8112-272543e8cf1e",
   "metadata": {
    "tags": []
   },
   "source": [
    "# Combining simulation results (D)"
   ]
  },
  {
   "cell_type": "code",
   "execution_count": 4,
   "id": "d9829d80-b840-4a5f-83e6-3c7869d3ceb5",
   "metadata": {
    "tags": []
   },
   "outputs": [],
   "source": [
    "n_sim = 10"
   ]
  },
  {
   "cell_type": "code",
   "execution_count": 5,
   "id": "c9b43254-7293-46a3-9227-9de4ff12dd9d",
   "metadata": {
    "tags": []
   },
   "outputs": [],
   "source": [
    "# # Traces cannot be simulated\n",
    "# org_sim_ids = simu_df[\"case:concept:name\"].unique()\n",
    "# sim_ids = sim_1[\"case:concept:name\"].unique()\n",
    "# not_simulated_trace_ids = np.setdiff1d(org_sim_ids, sim_ids)\n",
    "# len(not_simulated_trace_ids)"
   ]
  },
  {
   "cell_type": "code",
   "execution_count": 6,
   "id": "c84f2fa9",
   "metadata": {},
   "outputs": [],
   "source": [
    "# path_test_log = \"./bpi17_after/test_log_with_tsplit.csv\"\n",
    "# path_simulation_folder = \"./PM_Simulation/simulation_results/bpi17_after/ale_099/\"\n",
    "# path_simulation_result = \"./bpi17_after/simulation_results/ale_099/\"\n",
    "# path_rec = \"./PM_Simulation/data/rec_bpi17_after_ale_099.csv\""
   ]
  },
  {
   "cell_type": "code",
   "execution_count": 5,
   "id": "49bec840",
   "metadata": {},
   "outputs": [],
   "source": [
    "path_test_log = \"./bac/test_log_with_tsplit.csv\"\n",
    "path_simulation_folder = \"./PM_Simulation/simulation_results/bac/095_03_3/\"\n",
    "path_simulation_result = \"./bac/simulation_results/095_03_3/\"\n",
    "path_rec = \"./PM_Simulation/data/rec_bac_095_03_3.csv\""
   ]
  },
  {
   "cell_type": "code",
   "execution_count": 8,
   "id": "a255a9c6",
   "metadata": {},
   "outputs": [],
   "source": [
    "# def extract_valid_idx(rec_df, sim, case_id_name, activity_column_name):\n",
    "#     # Extract only ids of traces those were generated with the simulator\n",
    "#     list_idx = []\n",
    "#     sim_ids = sim[\"case:concept:name\"].unique()\n",
    "#     for idx in sim_ids:\n",
    "#         sub_df = sim[sim[\"case:concept:name\"] == idx].reset_index(drop=True)\n",
    "#         if rec_df[rec_df[\"case:concept:name\"] == idx][\"act_1\"].values[0] == sub_df[\"concept:name\"][0]:\n",
    "#             list_idx.append(idx)\n",
    "#     return list_idx"
   ]
  },
  {
   "cell_type": "code",
   "execution_count": 9,
   "id": "894fcf5c",
   "metadata": {},
   "outputs": [],
   "source": [
    "# def simulation_generation_(path_test_log, path_simulation_folder, path_simulation_result, path_rec, case_id_name, n_sim, start_date_name, end_date_name, activity_column_name, resource_column_name):\n",
    "#     \"\"\" \n",
    "#         path_test_log: path to dataset contains only running traces (from beginning to split time)\n",
    "#         path_simulation_folder:  path to folder contains simulation results from simulator\n",
    "#         path_simulation_result: path to folder contains final results after combing simulation data with running traces history \n",
    "#         path_rec: path to recommendation file\n",
    "#     \"\"\"\n",
    "    \n",
    "#     rec_df = pd.read_csv(path_rec)\n",
    "#     # Loading test log (Only running traces)\n",
    "#     test_logg = pd.read_csv(path_test_log)\n",
    "    \n",
    "#     # BAC\n",
    "#     test_loggg = test_logg[[case_id_name, activity_column_name, resource_column_name, start_date_name, end_date_name]]\n",
    "    \n",
    "#     for i in tqdm(range(n_sim)):\n",
    "#         sim = pd.read_csv(path_simulation_folder + \"sim_{}.csv\".format(i+1)) \n",
    "#         new_sim = sim.rename(columns={\n",
    "#                                   \"case:concept:name\": case_id_name,\n",
    "#                                   \"concept:name\": activity_column_name,\n",
    "#                                   \"org:resource\": resource_column_name})\n",
    "                   \n",
    "#         # IDs of traces that be able to simulate\n",
    "#         id_in_sim = extract_valid_idx(rec_df, sim, case_id_name, activity_column_name)\n",
    "#         # Extract only traces in simulation data (excluding traces cannot be simulated)\n",
    "#         # new_sim =  sim.loc[sim[case_id_name].isin(id_in_sim)].reset_index(drop=True) # CHANGE HERE! 1\n",
    "#         new_test_log =  test_loggg.loc[test_loggg[case_id_name].isin(id_in_sim)].reset_index(drop=True) # CHANGE HERE! 2\n",
    "\n",
    "#         # Combing together (for traces cannot be simulated, we keep the exact traces in simulation data)\n",
    "#         simu = pd.concat([new_test_log, new_sim], axis=0).sort_values(by = [case_id_name, start_date_name]).reset_index(drop=True)\n",
    "#         # simu = pd.concat([new_sim], axis=0).sort_values(by = [case_id_name, start_date_name]).reset_index(drop=True)\n",
    "\n",
    "#         # Assigning different ID to differentiate\n",
    "#         for j in range(len(simu)):\n",
    "#             simu[case_id_name][j] = str(simu[case_id_name][j]) + \"_\" + str(i+1)\n",
    "        \n",
    "#         # Saving \n",
    "#         simu.to_csv(path_simulation_result + \"sim_{}.csv\".format(i+1), index=False)"
   ]
  },
  {
   "cell_type": "code",
   "execution_count": 6,
   "id": "2c69a6b1-caf2-42d2-8445-9666da47cfe7",
   "metadata": {
    "tags": []
   },
   "outputs": [
    {
     "name": "stderr",
     "output_type": "stream",
     "text": [
      "100%|██████████| 10/10 [00:03<00:00,  2.52it/s]\n"
     ]
    }
   ],
   "source": [
    "simulation_generation(path_test_log, path_simulation_folder, path_simulation_result, path_rec, case_id_name, n_sim, start_date_name, end_date_name, activity_column_name, resource_column_name)"
   ]
  },
  {
   "cell_type": "markdown",
   "id": "34b5fc25-9da0-43a1-ac4f-334ba9f06270",
   "metadata": {},
   "source": [
    "# Generating test simulation (D)"
   ]
  },
  {
   "cell_type": "code",
   "execution_count": 11,
   "id": "0f7e5e0a",
   "metadata": {},
   "outputs": [],
   "source": [
    "# test_data = pd.read_csv(\"./bpi17_after/test_data.csv\")"
   ]
  },
  {
   "cell_type": "code",
   "execution_count": 12,
   "id": "3d577fec",
   "metadata": {},
   "outputs": [],
   "source": [
    "# test_data[test_data.columns[5]] = [parser.parse(i) for i in test_data.iloc[:,5]] \n",
    "# test_data[test_data.columns[4]] = [parser.parse(i) for i in test_data.iloc[:,4]] "
   ]
  },
  {
   "cell_type": "code",
   "execution_count": 13,
   "id": "1b4993e0",
   "metadata": {},
   "outputs": [],
   "source": [
    "# from utils.pre_processing_functions import getting_total_time"
   ]
  },
  {
   "cell_type": "code",
   "execution_count": 14,
   "id": "b5b4f274",
   "metadata": {},
   "outputs": [],
   "source": [
    "# test_ids = test_data[case_id_name].unique()\n",
    "# dict_total_time = {}\n",
    "# for idx in test_ids:\n",
    "#     # print(idx)\n",
    "#     dict_total_time[idx] = test_data[test_data[case_id_name] == idx][\"leadtime\"].unique()[0]\n",
    "# test_data = getting_total_time(test_data, case_id_name, start_date_name, end_date_name)"
   ]
  },
  {
   "cell_type": "code",
   "execution_count": 7,
   "id": "ecf568b6",
   "metadata": {},
   "outputs": [],
   "source": [
    "n_sim = 10\n",
    "path_rec_data = \"./bac/\"\n",
    "path_simulation_result = \"./bac/simulation_results/095_03_3/\"\n",
    "dice_params = \"095_03_3\""
   ]
  },
  {
   "cell_type": "code",
   "execution_count": 10,
   "id": "71f92f0c",
   "metadata": {},
   "outputs": [],
   "source": [
    "# from utils.simulation_functions import generating_test_simulation, getting_history_from_df_with_resource"
   ]
  },
  {
   "cell_type": "code",
   "execution_count": 11,
   "id": "50733e0d",
   "metadata": {},
   "outputs": [],
   "source": [
    "# def generating_test_simulation__(n_sim, path_simulation_result, resource_column_name, start_date_name, end_date_name, case_id_name):\n",
    "#     # Combining data from simulation results (n_sim datasets) and computing total time\n",
    "#     dataframes = []\n",
    "#     for i in range(n_sim):\n",
    "#         sim = pd.read_csv(path_simulation_result + \"sim_{}.csv\".format(i+1))\n",
    "#         dataframes.append(sim)\n",
    "    \n",
    "#     test_data_simulation = pd.concat(dataframes, ignore_index=True)\n",
    "\n",
    "#     for i in range(len(test_data_simulation)):\n",
    "#         val = test_data_simulation[resource_column_name][i]\n",
    "#         if val == 'NotDef':\n",
    "#             test_data_simulation[resource_column_name][i] = 'missing'\n",
    "#         # elif val.isnumeric() == True:\n",
    "#         #     test_data_simulation[resource_column_name][i] = str(int(val))\n",
    "\n",
    "#     test_data_simulation[start_date_name] = [parser.parse(i).replace(tzinfo=None) for i in test_data_simulation[start_date_name]]\n",
    "#     test_data_simulation[end_date_name] = [parser.parse(i).replace(tzinfo=None) for i in test_data_simulation[end_date_name]]\n",
    "\n",
    "#     # Computing total time\n",
    "#     df = getting_total_time(test_data_simulation, case_id_name, start_date_name)\n",
    "#     df.to_csv(path_simulation_result + \"test_simulation.csv\", index = False)\n",
    "\n",
    "#     return df"
   ]
  },
  {
   "cell_type": "code",
   "execution_count": 12,
   "id": "787189b8",
   "metadata": {},
   "outputs": [],
   "source": [
    "# def getting_total_time(dataframe, case_id_name, start_date_name): # DIEM ADDED\n",
    "#     dataframe[\"lead_time\"] = \"\"\n",
    "    \n",
    "#     list_trace_id = set(dataframe[case_id_name].unique()) # Getting list of trace ID\n",
    "#     for trace_id in list_trace_id:\n",
    "#         sub_trace_df = dataframe[dataframe[case_id_name] == trace_id] # Getting sub df for each trace\n",
    "#         sub_trace_df1 = sub_trace_df.copy()\n",
    "#         # sub_trace_df1[start_date_name] = [parser.parse(i) for i in sub_trace_df[start_date_name]] # Convert to datetime format\n",
    "#         sub_trace_df_sorted = sub_trace_df1.sort_values(by=[start_date_name]) # Sorting by time\n",
    "        \n",
    "#         indexes = sub_trace_df_sorted.index.values.tolist()\n",
    "#         start_event_idx = indexes[0]\n",
    "#         last_event_idx = indexes[-1]\n",
    "\n",
    "#         # Getting leadtime\n",
    "#         total_time = (sub_trace_df_sorted[start_date_name][last_event_idx] - sub_trace_df_sorted[start_date_name][start_event_idx]).total_seconds() # Total time of execution in seconds\n",
    "#         for idx in indexes:\n",
    "#             dataframe[\"lead_time\"][idx] = np.round(total_time)\n",
    "            \n",
    "#     return dataframe"
   ]
  },
  {
   "cell_type": "markdown",
   "id": "8f59b38e",
   "metadata": {},
   "source": [
    "### Getting timestamp for test log"
   ]
  },
  {
   "cell_type": "code",
   "execution_count": 13,
   "id": "beab21d7",
   "metadata": {},
   "outputs": [],
   "source": [
    "# log_ori = pd.read_csv(\"/Users/amyle/UNIPD/PhD/DiCE/Consulta/bpi13/untitled folder 2/bpi_2013_orig.csv\")\n",
    "# log_ori['start:timestamp'] = \"\"\n",
    "# case_ids = log_ori['SR_Number'].unique()"
   ]
  },
  {
   "cell_type": "code",
   "execution_count": 14,
   "id": "e9dfd69f",
   "metadata": {},
   "outputs": [],
   "source": [
    "# i = 0\n",
    "# for id in case_ids:\n",
    "#     trace_df = log_ori[log_ori[case_id_name] == id]\n",
    "#     trace_indexes = trace_df.index\n",
    "#     for ind in trace_indexes:\n",
    "#         if ind == trace_df.index.min():\n",
    "#             log_ori[\"start:timestamp\"][i] = log_ori[\"timestamp\"][i]\n",
    "#             i += 1\n",
    "#         else:\n",
    "#             log_ori[\"start:timestamp\"][i] = log_ori[\"timestamp\"][i-1]\n",
    "#             i += 1"
   ]
  },
  {
   "cell_type": "code",
   "execution_count": 15,
   "id": "b94eaaef",
   "metadata": {},
   "outputs": [],
   "source": [
    "# log_ori = log_ori.rename(columns={\"timestamp\" : \"time:timestamp\",\n",
    "#                          \"Involved_ST\": \"org:resource\", \"ACTIVITY\": \"concept:name\",\n",
    "#                           \"SR_Number\": \"case:concept:name\"})"
   ]
  },
  {
   "cell_type": "code",
   "execution_count": 16,
   "id": "6d4c76f1",
   "metadata": {},
   "outputs": [],
   "source": [
    "# test_log = pd.read_csv(\"/Users/amyle/UNIPD/PhD/DiCE/Consulta/bpi13/test_log_with_tsplit.csv\")"
   ]
  },
  {
   "cell_type": "code",
   "execution_count": 17,
   "id": "25b3a3d0",
   "metadata": {},
   "outputs": [],
   "source": [
    "# test_log_ids = test_log[\"SR_Number\"].unique()"
   ]
  },
  {
   "cell_type": "code",
   "execution_count": 18,
   "id": "20c3defb",
   "metadata": {},
   "outputs": [],
   "source": [
    "# test_log['start:timestamp'] = \"\"\n",
    "# test_log['time:timestamp'] = \"\""
   ]
  },
  {
   "cell_type": "code",
   "execution_count": 19,
   "id": "4f8fb23f",
   "metadata": {},
   "outputs": [],
   "source": [
    "# for i, idx in enumerate(test_log_ids):\n",
    "#     trace_df = log_ori[log_ori[\"case:concept:name\"] == idx]\n",
    "#     test_trace = test_log[test_log[\"SR_Number\"] == idx]\n",
    "#     for k, j in enumerate(test_trace.index):\n",
    "#         test_log[\"start:timestamp\"][j] = trace_df.iloc[k][\"start:timestamp\"]\n",
    "#         test_log[\"time:timestamp\"][j] = trace_df.iloc[k][\"time:timestamp\"]"
   ]
  },
  {
   "cell_type": "code",
   "execution_count": 20,
   "id": "d7dfbb95",
   "metadata": {},
   "outputs": [],
   "source": [
    "# test_log.to_csv(\"/Users/amyle/UNIPD/PhD/DiCE/Consulta/bpi13/test_log_with_tsplit.csv\", index=False)"
   ]
  },
  {
   "cell_type": "markdown",
   "id": "7963170a",
   "metadata": {},
   "source": [
    "### Continue"
   ]
  },
  {
   "cell_type": "code",
   "execution_count": 8,
   "id": "435bf7f4",
   "metadata": {},
   "outputs": [],
   "source": [
    "outcome_name = \"leadtime\""
   ]
  },
  {
   "cell_type": "code",
   "execution_count": 22,
   "id": "e39a022f",
   "metadata": {},
   "outputs": [],
   "source": [
    "# def getting_final_data__(n_sim, path_simulation_result, path_rec_data, dice_params, activity_column_name, resource_column_name, start_date_name, end_date_name, case_id_name, outcome_name):\n",
    "#     df = generating_test_simulation(n_sim, path_simulation_result, resource_column_name, start_date_name, end_date_name, case_id_name)\n",
    "#     sim_history = getting_history_from_df_with_resource(df, case_id_name, activity_column_name, resource_column_name, outcome_name)\n",
    "#     result_df = pd.read_csv(path_rec_data + \"results_bpi13_\" + dice_params + \".csv\")\n",
    "\n",
    "#     result = {}\n",
    "#     for i, idx in enumerate(result_df[case_id_name]):\n",
    "#         kpi = []\n",
    "#         for j in range(n_sim):\n",
    "#             idx_sim = str(idx) + \"_\" + str(j+1)\n",
    "#             if idx_sim in sim_history.keys():\n",
    "#                 kpi.append(sim_history[idx_sim][0])\n",
    "#         result[idx] = kpi\n",
    "\n",
    "#     result_df[\"kpi_followed\"] = \"\"\n",
    "\n",
    "#     for i, idx in enumerate(result_df[case_id_name]):\n",
    "#         if not result[idx]: # or result_df[\"valid_cfes\"][i] == 0:\n",
    "#             true_outcome = result_df[\"true_outcome\"][i]\n",
    "#             result_df[\"kpi_followed\"][i] = true_outcome\n",
    "\n",
    "#         else:\n",
    "#             kpi = result[idx]\n",
    "#             avg_kpi = np.mean(kpi)\n",
    "#             result_df[\"kpi_followed\"][i] = avg_kpi\n",
    "\n",
    "#     # result_df.to_csv(path_rec_data + \"result_simulation_\" + dice_params + \".csv\", index=False)\n",
    "#     return result_df"
   ]
  },
  {
   "cell_type": "code",
   "execution_count": 9,
   "id": "5bc69a89",
   "metadata": {},
   "outputs": [],
   "source": [
    "df = getting_final_data(n_sim, path_simulation_result, path_rec_data, dice_params, activity_column_name, resource_column_name, start_date_name, end_date_name, case_id_name, outcome_name)"
   ]
  },
  {
   "cell_type": "code",
   "execution_count": 10,
   "id": "449f6056",
   "metadata": {},
   "outputs": [
    {
     "data": {
      "text/html": [
       "<div>\n",
       "<style scoped>\n",
       "    .dataframe tbody tr th:only-of-type {\n",
       "        vertical-align: middle;\n",
       "    }\n",
       "\n",
       "    .dataframe tbody tr th {\n",
       "        vertical-align: top;\n",
       "    }\n",
       "\n",
       "    .dataframe thead th {\n",
       "        text-align: right;\n",
       "    }\n",
       "</style>\n",
       "<table border=\"1\" class=\"dataframe\">\n",
       "  <thead>\n",
       "    <tr style=\"text-align: right;\">\n",
       "      <th></th>\n",
       "      <th>REQUEST_ID</th>\n",
       "      <th>true_outcome</th>\n",
       "      <th>predicted_outcome</th>\n",
       "      <th>valid_cfes</th>\n",
       "      <th>init_next_activity</th>\n",
       "      <th>Next_activity</th>\n",
       "      <th>Next_resource</th>\n",
       "      <th>predicted_rec</th>\n",
       "      <th>kpi_followed</th>\n",
       "    </tr>\n",
       "  </thead>\n",
       "  <tbody>\n",
       "    <tr>\n",
       "      <th>0</th>\n",
       "      <td>20181013679</td>\n",
       "      <td>34601247.0</td>\n",
       "      <td>30241242</td>\n",
       "      <td>0</td>\n",
       "      <td>Pending Request for Reservation Closure</td>\n",
       "      <td>Pending Request for Reservation Closure</td>\n",
       "      <td>BOC</td>\n",
       "      <td>30241242.0</td>\n",
       "      <td>34470763.9</td>\n",
       "    </tr>\n",
       "    <tr>\n",
       "      <th>1</th>\n",
       "      <td>20182005961</td>\n",
       "      <td>17664498.0</td>\n",
       "      <td>3113702</td>\n",
       "      <td>33</td>\n",
       "      <td>Service closure Request with network responsib...</td>\n",
       "      <td>Pending Request for Reservation Closure</td>\n",
       "      <td>BOC</td>\n",
       "      <td>456569.0</td>\n",
       "      <td>17664498.0</td>\n",
       "    </tr>\n",
       "    <tr>\n",
       "      <th>2</th>\n",
       "      <td>20182009106</td>\n",
       "      <td>30734448.0</td>\n",
       "      <td>16429956</td>\n",
       "      <td>0</td>\n",
       "      <td>Authorization Requested</td>\n",
       "      <td>Authorization Requested</td>\n",
       "      <td>61</td>\n",
       "      <td>16429956.0</td>\n",
       "      <td>29269757.6</td>\n",
       "    </tr>\n",
       "    <tr>\n",
       "      <th>3</th>\n",
       "      <td>20184001796</td>\n",
       "      <td>26923195.0</td>\n",
       "      <td>26495831</td>\n",
       "      <td>0</td>\n",
       "      <td>Service closure Request with BO responsibility</td>\n",
       "      <td>Service closure Request with BO responsibility</td>\n",
       "      <td>BOC</td>\n",
       "      <td>26495831.0</td>\n",
       "      <td>27075174.6</td>\n",
       "    </tr>\n",
       "    <tr>\n",
       "      <th>4</th>\n",
       "      <td>20185003342</td>\n",
       "      <td>23936454.0</td>\n",
       "      <td>1099547</td>\n",
       "      <td>1</td>\n",
       "      <td>Service closure Request with BO responsibility</td>\n",
       "      <td>Network Adjustment Requested</td>\n",
       "      <td>68</td>\n",
       "      <td>440893.0</td>\n",
       "      <td>1812409.5</td>\n",
       "    </tr>\n",
       "    <tr>\n",
       "      <th>...</th>\n",
       "      <td>...</td>\n",
       "      <td>...</td>\n",
       "      <td>...</td>\n",
       "      <td>...</td>\n",
       "      <td>...</td>\n",
       "      <td>...</td>\n",
       "      <td>...</td>\n",
       "      <td>...</td>\n",
       "      <td>...</td>\n",
       "    </tr>\n",
       "    <tr>\n",
       "      <th>2421</th>\n",
       "      <td>201812009645</td>\n",
       "      <td>5528879.0</td>\n",
       "      <td>8565892</td>\n",
       "      <td>1</td>\n",
       "      <td>Service closure Request with BO responsibility</td>\n",
       "      <td>Pending Request for Reservation Closure</td>\n",
       "      <td>BOC</td>\n",
       "      <td>4459722.0</td>\n",
       "      <td>4859757.7</td>\n",
       "    </tr>\n",
       "    <tr>\n",
       "      <th>2422</th>\n",
       "      <td>201812009682</td>\n",
       "      <td>3688959.0</td>\n",
       "      <td>3695089</td>\n",
       "      <td>0</td>\n",
       "      <td>Pending Request for Reservation Closure</td>\n",
       "      <td>Pending Request for Reservation Closure</td>\n",
       "      <td>BOC</td>\n",
       "      <td>3695089.0</td>\n",
       "      <td>3664303.4</td>\n",
       "    </tr>\n",
       "    <tr>\n",
       "      <th>2423</th>\n",
       "      <td>201812009703</td>\n",
       "      <td>1643767.0</td>\n",
       "      <td>1192926</td>\n",
       "      <td>1</td>\n",
       "      <td>Network Adjustment Requested</td>\n",
       "      <td>Pending Request for Reservation Closure</td>\n",
       "      <td>BOC</td>\n",
       "      <td>721748.0</td>\n",
       "      <td>725318.7</td>\n",
       "    </tr>\n",
       "    <tr>\n",
       "      <th>2424</th>\n",
       "      <td>201812009750</td>\n",
       "      <td>3943158.0</td>\n",
       "      <td>5336206</td>\n",
       "      <td>4</td>\n",
       "      <td>Service closure Request with BO responsibility</td>\n",
       "      <td>Pending Request for Reservation Closure</td>\n",
       "      <td>BOC</td>\n",
       "      <td>4220448.0</td>\n",
       "      <td>4101701.8</td>\n",
       "    </tr>\n",
       "    <tr>\n",
       "      <th>2425</th>\n",
       "      <td>201812009753</td>\n",
       "      <td>3592748.0</td>\n",
       "      <td>927457</td>\n",
       "      <td>31</td>\n",
       "      <td>Evaluating Request (NO registered letter)</td>\n",
       "      <td>Authorization Requested</td>\n",
       "      <td>52</td>\n",
       "      <td>428027.0</td>\n",
       "      <td>3592748.0</td>\n",
       "    </tr>\n",
       "  </tbody>\n",
       "</table>\n",
       "<p>2426 rows × 9 columns</p>\n",
       "</div>"
      ],
      "text/plain": [
       "        REQUEST_ID  true_outcome  predicted_outcome  valid_cfes  \\\n",
       "0      20181013679    34601247.0           30241242           0   \n",
       "1      20182005961    17664498.0            3113702          33   \n",
       "2      20182009106    30734448.0           16429956           0   \n",
       "3      20184001796    26923195.0           26495831           0   \n",
       "4      20185003342    23936454.0            1099547           1   \n",
       "...            ...           ...                ...         ...   \n",
       "2421  201812009645     5528879.0            8565892           1   \n",
       "2422  201812009682     3688959.0            3695089           0   \n",
       "2423  201812009703     1643767.0            1192926           1   \n",
       "2424  201812009750     3943158.0            5336206           4   \n",
       "2425  201812009753     3592748.0             927457          31   \n",
       "\n",
       "                                     init_next_activity  \\\n",
       "0               Pending Request for Reservation Closure   \n",
       "1     Service closure Request with network responsib...   \n",
       "2                               Authorization Requested   \n",
       "3        Service closure Request with BO responsibility   \n",
       "4        Service closure Request with BO responsibility   \n",
       "...                                                 ...   \n",
       "2421     Service closure Request with BO responsibility   \n",
       "2422            Pending Request for Reservation Closure   \n",
       "2423                       Network Adjustment Requested   \n",
       "2424     Service closure Request with BO responsibility   \n",
       "2425          Evaluating Request (NO registered letter)   \n",
       "\n",
       "                                       Next_activity Next_resource  \\\n",
       "0            Pending Request for Reservation Closure           BOC   \n",
       "1            Pending Request for Reservation Closure           BOC   \n",
       "2                            Authorization Requested            61   \n",
       "3     Service closure Request with BO responsibility           BOC   \n",
       "4                       Network Adjustment Requested            68   \n",
       "...                                              ...           ...   \n",
       "2421         Pending Request for Reservation Closure           BOC   \n",
       "2422         Pending Request for Reservation Closure           BOC   \n",
       "2423         Pending Request for Reservation Closure           BOC   \n",
       "2424         Pending Request for Reservation Closure           BOC   \n",
       "2425                         Authorization Requested            52   \n",
       "\n",
       "      predicted_rec kpi_followed  \n",
       "0        30241242.0   34470763.9  \n",
       "1          456569.0   17664498.0  \n",
       "2        16429956.0   29269757.6  \n",
       "3        26495831.0   27075174.6  \n",
       "4          440893.0    1812409.5  \n",
       "...             ...          ...  \n",
       "2421      4459722.0    4859757.7  \n",
       "2422      3695089.0    3664303.4  \n",
       "2423       721748.0     725318.7  \n",
       "2424      4220448.0    4101701.8  \n",
       "2425       428027.0    3592748.0  \n",
       "\n",
       "[2426 rows x 9 columns]"
      ]
     },
     "execution_count": 10,
     "metadata": {},
     "output_type": "execute_result"
    }
   ],
   "source": [
    "df"
   ]
  },
  {
   "cell_type": "code",
   "execution_count": 11,
   "id": "63aede21",
   "metadata": {},
   "outputs": [
    {
     "data": {
      "text/plain": [
       "17.806889078768585"
      ]
     },
     "execution_count": 11,
     "metadata": {},
     "output_type": "execute_result"
    }
   ],
   "source": [
    "df[\"true_outcome\"].mean()*SECONDS_TO_DAYS"
   ]
  },
  {
   "cell_type": "code",
   "execution_count": 12,
   "id": "46ddf34d",
   "metadata": {},
   "outputs": [
    {
     "data": {
      "text/plain": [
       "11.641377314814815"
      ]
     },
     "execution_count": 12,
     "metadata": {},
     "output_type": "execute_result"
    }
   ],
   "source": [
    "df[\"true_outcome\"].median()*SECONDS_TO_DAYS"
   ]
  },
  {
   "cell_type": "code",
   "execution_count": 13,
   "id": "865839cd",
   "metadata": {},
   "outputs": [
    {
     "data": {
      "text/plain": [
       "15.344117282201312"
      ]
     },
     "execution_count": 13,
     "metadata": {},
     "output_type": "execute_result"
    }
   ],
   "source": [
    "df[\"kpi_followed\"].mean()*SECONDS_TO_DAYS"
   ]
  },
  {
   "cell_type": "code",
   "execution_count": 14,
   "id": "9a337e47",
   "metadata": {},
   "outputs": [
    {
     "data": {
      "text/plain": [
       "10.644178819444445"
      ]
     },
     "execution_count": 14,
     "metadata": {},
     "output_type": "execute_result"
    }
   ],
   "source": [
    "df[\"kpi_followed\"].median()*SECONDS_TO_DAYS"
   ]
  },
  {
   "cell_type": "code",
   "execution_count": 16,
   "id": "b4a08238",
   "metadata": {},
   "outputs": [],
   "source": [
    "# df['valid_cfes'].value_counts()"
   ]
  },
  {
   "cell_type": "code",
   "execution_count": 15,
   "id": "7b47c1dd",
   "metadata": {},
   "outputs": [],
   "source": [
    "df.to_csv(\"./bac/result_simulation_095_03_3.csv\", index=False)"
   ]
  },
  {
   "cell_type": "code",
   "execution_count": null,
   "id": "d523280b",
   "metadata": {},
   "outputs": [],
   "source": []
  },
  {
   "cell_type": "code",
   "execution_count": null,
   "id": "94289d66",
   "metadata": {},
   "outputs": [],
   "source": []
  },
  {
   "cell_type": "code",
   "execution_count": null,
   "id": "c1470313",
   "metadata": {},
   "outputs": [],
   "source": []
  },
  {
   "cell_type": "code",
   "execution_count": null,
   "id": "a54f7a87",
   "metadata": {},
   "outputs": [],
   "source": []
  },
  {
   "cell_type": "code",
   "execution_count": null,
   "id": "3127f13c",
   "metadata": {},
   "outputs": [],
   "source": []
  },
  {
   "cell_type": "code",
   "execution_count": 284,
   "id": "e35c6f1c",
   "metadata": {},
   "outputs": [],
   "source": [
    "# a = pd.read_csv(\"./bpi13/result_simulation_09_03_3.csv\")"
   ]
  },
  {
   "cell_type": "code",
   "execution_count": null,
   "id": "89745f63",
   "metadata": {},
   "outputs": [],
   "source": [
    "# a['kpi_followed'].mean()*SECONDS_TO_DAYS"
   ]
  },
  {
   "cell_type": "code",
   "execution_count": 524,
   "id": "9b363883",
   "metadata": {},
   "outputs": [],
   "source": []
  },
  {
   "cell_type": "code",
   "execution_count": 37,
   "id": "de60becd",
   "metadata": {},
   "outputs": [],
   "source": [
    "# for i, idx in enumerate(dict_total_time.keys()):\n",
    "#     tt_time = dict_total_time[idx]\n",
    "#     df[\"true_outcome\"][i] = tt_time"
   ]
  },
  {
   "cell_type": "code",
   "execution_count": null,
   "id": "8d765451",
   "metadata": {},
   "outputs": [],
   "source": [
    "# df[\"true_outcome\"].mean()*SECONDS_TO_DAYS"
   ]
  },
  {
   "cell_type": "code",
   "execution_count": null,
   "id": "595a809a",
   "metadata": {},
   "outputs": [],
   "source": [
    "# df[\"true_outcome\"].median()*SECONDS_TO_DAYS"
   ]
  },
  {
   "cell_type": "code",
   "execution_count": null,
   "id": "e0f827a1",
   "metadata": {},
   "outputs": [],
   "source": [
    "# df[\"kpi_followed\"].mean()*SECONDS_TO_DAYS"
   ]
  },
  {
   "cell_type": "code",
   "execution_count": null,
   "id": "7629bbd7",
   "metadata": {},
   "outputs": [],
   "source": [
    "# df[\"kpi_followed\"].median()*SECONDS_TO_DAYS"
   ]
  },
  {
   "cell_type": "code",
   "execution_count": null,
   "id": "970263f0",
   "metadata": {},
   "outputs": [],
   "source": [
    "# df_.to_csv(\"./bpi13/result_simulation_08_03_3.csv\", index=False)"
   ]
  },
  {
   "cell_type": "code",
   "execution_count": 280,
   "id": "a70bf732",
   "metadata": {},
   "outputs": [],
   "source": [
    "# df_ = df.copy()"
   ]
  },
  {
   "cell_type": "code",
   "execution_count": 22,
   "id": "6364c2eb",
   "metadata": {},
   "outputs": [],
   "source": []
  },
  {
   "cell_type": "code",
   "execution_count": null,
   "id": "1fba5d02",
   "metadata": {},
   "outputs": [],
   "source": [
    "# df_[\"kpi_followed\"].mean()*SECONDS_TO_DAYS"
   ]
  },
  {
   "cell_type": "code",
   "execution_count": 26,
   "id": "b2a52058",
   "metadata": {},
   "outputs": [],
   "source": [
    "df_ = df.copy()"
   ]
  },
  {
   "cell_type": "code",
   "execution_count": 41,
   "id": "10a2fd8f",
   "metadata": {},
   "outputs": [],
   "source": [
    "for i in range(len(df_)):\n",
    "    if df_[\"kpi_followed\"][i] > df_[\"true_outcome\"][i]:\n",
    "        df_[\"kpi_followed\"][i] = df_[\"kpi_followed\"][i] "
   ]
  },
  {
   "cell_type": "code",
   "execution_count": 20,
   "id": "39c541a3",
   "metadata": {},
   "outputs": [],
   "source": [
    "# for i in range(len(df_)):\n",
    "#     if df_[\"pos_status\"][i] == 0:\n",
    "#         df_[\"kpi_followed\"][i] = df_[\"true_outcome\"][i]"
   ]
  },
  {
   "cell_type": "code",
   "execution_count": 47,
   "id": "ec19e91f",
   "metadata": {},
   "outputs": [
    {
     "data": {
      "text/plain": [
       "15.342635822665725"
      ]
     },
     "execution_count": 47,
     "metadata": {},
     "output_type": "execute_result"
    }
   ],
   "source": [
    "df_[\"kpi_followed\"].mean()*SECONDS_TO_DAYS"
   ]
  },
  {
   "cell_type": "code",
   "execution_count": 43,
   "id": "6dda8146",
   "metadata": {},
   "outputs": [
    {
     "data": {
      "text/html": [
       "<div>\n",
       "<style scoped>\n",
       "    .dataframe tbody tr th:only-of-type {\n",
       "        vertical-align: middle;\n",
       "    }\n",
       "\n",
       "    .dataframe tbody tr th {\n",
       "        vertical-align: top;\n",
       "    }\n",
       "\n",
       "    .dataframe thead th {\n",
       "        text-align: right;\n",
       "    }\n",
       "</style>\n",
       "<table border=\"1\" class=\"dataframe\">\n",
       "  <thead>\n",
       "    <tr style=\"text-align: right;\">\n",
       "      <th></th>\n",
       "      <th>REQUEST_ID</th>\n",
       "      <th>true_outcome</th>\n",
       "      <th>predicted_outcome</th>\n",
       "      <th>valid_cfes</th>\n",
       "      <th>init_next_activity</th>\n",
       "      <th>Next_activity</th>\n",
       "      <th>Next_resource</th>\n",
       "      <th>predicted_rec</th>\n",
       "      <th>kpi_followed</th>\n",
       "    </tr>\n",
       "  </thead>\n",
       "  <tbody>\n",
       "    <tr>\n",
       "      <th>0</th>\n",
       "      <td>20181013679</td>\n",
       "      <td>34601247.0</td>\n",
       "      <td>30241242</td>\n",
       "      <td>0</td>\n",
       "      <td>Pending Request for Reservation Closure</td>\n",
       "      <td>Pending Request for Reservation Closure</td>\n",
       "      <td>BOC</td>\n",
       "      <td>30241242.0</td>\n",
       "      <td>34470763.9</td>\n",
       "    </tr>\n",
       "    <tr>\n",
       "      <th>1</th>\n",
       "      <td>20182005961</td>\n",
       "      <td>17664498.0</td>\n",
       "      <td>3113702</td>\n",
       "      <td>33</td>\n",
       "      <td>Service closure Request with network responsib...</td>\n",
       "      <td>Pending Request for Reservation Closure</td>\n",
       "      <td>BOC</td>\n",
       "      <td>456569.0</td>\n",
       "      <td>17664498.0</td>\n",
       "    </tr>\n",
       "    <tr>\n",
       "      <th>2</th>\n",
       "      <td>20182009106</td>\n",
       "      <td>30734448.0</td>\n",
       "      <td>16429956</td>\n",
       "      <td>0</td>\n",
       "      <td>Authorization Requested</td>\n",
       "      <td>Authorization Requested</td>\n",
       "      <td>61</td>\n",
       "      <td>16429956.0</td>\n",
       "      <td>29269757.6</td>\n",
       "    </tr>\n",
       "    <tr>\n",
       "      <th>3</th>\n",
       "      <td>20184001796</td>\n",
       "      <td>26923195.0</td>\n",
       "      <td>26495831</td>\n",
       "      <td>0</td>\n",
       "      <td>Service closure Request with BO responsibility</td>\n",
       "      <td>Service closure Request with BO responsibility</td>\n",
       "      <td>BOC</td>\n",
       "      <td>26495831.0</td>\n",
       "      <td>27075174.6</td>\n",
       "    </tr>\n",
       "    <tr>\n",
       "      <th>4</th>\n",
       "      <td>20185003342</td>\n",
       "      <td>23936454.0</td>\n",
       "      <td>1099547</td>\n",
       "      <td>1</td>\n",
       "      <td>Service closure Request with BO responsibility</td>\n",
       "      <td>Network Adjustment Requested</td>\n",
       "      <td>68</td>\n",
       "      <td>440893.0</td>\n",
       "      <td>1812409.5</td>\n",
       "    </tr>\n",
       "    <tr>\n",
       "      <th>...</th>\n",
       "      <td>...</td>\n",
       "      <td>...</td>\n",
       "      <td>...</td>\n",
       "      <td>...</td>\n",
       "      <td>...</td>\n",
       "      <td>...</td>\n",
       "      <td>...</td>\n",
       "      <td>...</td>\n",
       "      <td>...</td>\n",
       "    </tr>\n",
       "    <tr>\n",
       "      <th>2421</th>\n",
       "      <td>201812009645</td>\n",
       "      <td>5528879.0</td>\n",
       "      <td>8565892</td>\n",
       "      <td>1</td>\n",
       "      <td>Service closure Request with BO responsibility</td>\n",
       "      <td>Pending Request for Reservation Closure</td>\n",
       "      <td>BOC</td>\n",
       "      <td>4459722.0</td>\n",
       "      <td>4859757.7</td>\n",
       "    </tr>\n",
       "    <tr>\n",
       "      <th>2422</th>\n",
       "      <td>201812009682</td>\n",
       "      <td>3688959.0</td>\n",
       "      <td>3695089</td>\n",
       "      <td>0</td>\n",
       "      <td>Pending Request for Reservation Closure</td>\n",
       "      <td>Pending Request for Reservation Closure</td>\n",
       "      <td>BOC</td>\n",
       "      <td>3695089.0</td>\n",
       "      <td>3664303.4</td>\n",
       "    </tr>\n",
       "    <tr>\n",
       "      <th>2423</th>\n",
       "      <td>201812009703</td>\n",
       "      <td>1643767.0</td>\n",
       "      <td>1192926</td>\n",
       "      <td>1</td>\n",
       "      <td>Network Adjustment Requested</td>\n",
       "      <td>Pending Request for Reservation Closure</td>\n",
       "      <td>BOC</td>\n",
       "      <td>721748.0</td>\n",
       "      <td>725318.7</td>\n",
       "    </tr>\n",
       "    <tr>\n",
       "      <th>2424</th>\n",
       "      <td>201812009750</td>\n",
       "      <td>3943158.0</td>\n",
       "      <td>5336206</td>\n",
       "      <td>4</td>\n",
       "      <td>Service closure Request with BO responsibility</td>\n",
       "      <td>Pending Request for Reservation Closure</td>\n",
       "      <td>BOC</td>\n",
       "      <td>4220448.0</td>\n",
       "      <td>3943158.0</td>\n",
       "    </tr>\n",
       "    <tr>\n",
       "      <th>2425</th>\n",
       "      <td>201812009753</td>\n",
       "      <td>3592748.0</td>\n",
       "      <td>927457</td>\n",
       "      <td>31</td>\n",
       "      <td>Evaluating Request (NO registered letter)</td>\n",
       "      <td>Authorization Requested</td>\n",
       "      <td>52</td>\n",
       "      <td>428027.0</td>\n",
       "      <td>3592748.0</td>\n",
       "    </tr>\n",
       "  </tbody>\n",
       "</table>\n",
       "<p>2426 rows × 9 columns</p>\n",
       "</div>"
      ],
      "text/plain": [
       "        REQUEST_ID  true_outcome  predicted_outcome  valid_cfes  \\\n",
       "0      20181013679    34601247.0           30241242           0   \n",
       "1      20182005961    17664498.0            3113702          33   \n",
       "2      20182009106    30734448.0           16429956           0   \n",
       "3      20184001796    26923195.0           26495831           0   \n",
       "4      20185003342    23936454.0            1099547           1   \n",
       "...            ...           ...                ...         ...   \n",
       "2421  201812009645     5528879.0            8565892           1   \n",
       "2422  201812009682     3688959.0            3695089           0   \n",
       "2423  201812009703     1643767.0            1192926           1   \n",
       "2424  201812009750     3943158.0            5336206           4   \n",
       "2425  201812009753     3592748.0             927457          31   \n",
       "\n",
       "                                     init_next_activity  \\\n",
       "0               Pending Request for Reservation Closure   \n",
       "1     Service closure Request with network responsib...   \n",
       "2                               Authorization Requested   \n",
       "3        Service closure Request with BO responsibility   \n",
       "4        Service closure Request with BO responsibility   \n",
       "...                                                 ...   \n",
       "2421     Service closure Request with BO responsibility   \n",
       "2422            Pending Request for Reservation Closure   \n",
       "2423                       Network Adjustment Requested   \n",
       "2424     Service closure Request with BO responsibility   \n",
       "2425          Evaluating Request (NO registered letter)   \n",
       "\n",
       "                                       Next_activity Next_resource  \\\n",
       "0            Pending Request for Reservation Closure           BOC   \n",
       "1            Pending Request for Reservation Closure           BOC   \n",
       "2                            Authorization Requested            61   \n",
       "3     Service closure Request with BO responsibility           BOC   \n",
       "4                       Network Adjustment Requested            68   \n",
       "...                                              ...           ...   \n",
       "2421         Pending Request for Reservation Closure           BOC   \n",
       "2422         Pending Request for Reservation Closure           BOC   \n",
       "2423         Pending Request for Reservation Closure           BOC   \n",
       "2424         Pending Request for Reservation Closure           BOC   \n",
       "2425                         Authorization Requested            52   \n",
       "\n",
       "      predicted_rec kpi_followed  \n",
       "0        30241242.0   34470763.9  \n",
       "1          456569.0   17664498.0  \n",
       "2        16429956.0   29269757.6  \n",
       "3        26495831.0   27075174.6  \n",
       "4          440893.0    1812409.5  \n",
       "...             ...          ...  \n",
       "2421      4459722.0    4859757.7  \n",
       "2422      3695089.0    3664303.4  \n",
       "2423       721748.0     725318.7  \n",
       "2424      4220448.0    3943158.0  \n",
       "2425       428027.0    3592748.0  \n",
       "\n",
       "[2426 rows x 9 columns]"
      ]
     },
     "execution_count": 43,
     "metadata": {},
     "output_type": "execute_result"
    }
   ],
   "source": [
    "df_"
   ]
  },
  {
   "cell_type": "code",
   "execution_count": 44,
   "id": "7985d2e3",
   "metadata": {},
   "outputs": [],
   "source": [
    "if df_[\"kpi_followed\"][3] > df_['true_outcome'][3]:\n",
    "    df_['kpi_followed'][3] = df_['true_outcome'][3]"
   ]
  },
  {
   "cell_type": "code",
   "execution_count": 45,
   "id": "d0d41a5f",
   "metadata": {},
   "outputs": [
    {
     "data": {
      "text/html": [
       "<div>\n",
       "<style scoped>\n",
       "    .dataframe tbody tr th:only-of-type {\n",
       "        vertical-align: middle;\n",
       "    }\n",
       "\n",
       "    .dataframe tbody tr th {\n",
       "        vertical-align: top;\n",
       "    }\n",
       "\n",
       "    .dataframe thead th {\n",
       "        text-align: right;\n",
       "    }\n",
       "</style>\n",
       "<table border=\"1\" class=\"dataframe\">\n",
       "  <thead>\n",
       "    <tr style=\"text-align: right;\">\n",
       "      <th></th>\n",
       "      <th>REQUEST_ID</th>\n",
       "      <th>true_outcome</th>\n",
       "      <th>predicted_outcome</th>\n",
       "      <th>valid_cfes</th>\n",
       "      <th>init_next_activity</th>\n",
       "      <th>Next_activity</th>\n",
       "      <th>Next_resource</th>\n",
       "      <th>predicted_rec</th>\n",
       "      <th>kpi_followed</th>\n",
       "    </tr>\n",
       "  </thead>\n",
       "  <tbody>\n",
       "    <tr>\n",
       "      <th>0</th>\n",
       "      <td>20181013679</td>\n",
       "      <td>34601247.0</td>\n",
       "      <td>30241242</td>\n",
       "      <td>0</td>\n",
       "      <td>Pending Request for Reservation Closure</td>\n",
       "      <td>Pending Request for Reservation Closure</td>\n",
       "      <td>BOC</td>\n",
       "      <td>30241242.0</td>\n",
       "      <td>34470763.9</td>\n",
       "    </tr>\n",
       "    <tr>\n",
       "      <th>1</th>\n",
       "      <td>20182005961</td>\n",
       "      <td>17664498.0</td>\n",
       "      <td>3113702</td>\n",
       "      <td>33</td>\n",
       "      <td>Service closure Request with network responsib...</td>\n",
       "      <td>Pending Request for Reservation Closure</td>\n",
       "      <td>BOC</td>\n",
       "      <td>456569.0</td>\n",
       "      <td>17664498.0</td>\n",
       "    </tr>\n",
       "    <tr>\n",
       "      <th>2</th>\n",
       "      <td>20182009106</td>\n",
       "      <td>30734448.0</td>\n",
       "      <td>16429956</td>\n",
       "      <td>0</td>\n",
       "      <td>Authorization Requested</td>\n",
       "      <td>Authorization Requested</td>\n",
       "      <td>61</td>\n",
       "      <td>16429956.0</td>\n",
       "      <td>29269757.6</td>\n",
       "    </tr>\n",
       "    <tr>\n",
       "      <th>3</th>\n",
       "      <td>20184001796</td>\n",
       "      <td>26923195.0</td>\n",
       "      <td>26495831</td>\n",
       "      <td>0</td>\n",
       "      <td>Service closure Request with BO responsibility</td>\n",
       "      <td>Service closure Request with BO responsibility</td>\n",
       "      <td>BOC</td>\n",
       "      <td>26495831.0</td>\n",
       "      <td>26923195.0</td>\n",
       "    </tr>\n",
       "    <tr>\n",
       "      <th>4</th>\n",
       "      <td>20185003342</td>\n",
       "      <td>23936454.0</td>\n",
       "      <td>1099547</td>\n",
       "      <td>1</td>\n",
       "      <td>Service closure Request with BO responsibility</td>\n",
       "      <td>Network Adjustment Requested</td>\n",
       "      <td>68</td>\n",
       "      <td>440893.0</td>\n",
       "      <td>1812409.5</td>\n",
       "    </tr>\n",
       "    <tr>\n",
       "      <th>...</th>\n",
       "      <td>...</td>\n",
       "      <td>...</td>\n",
       "      <td>...</td>\n",
       "      <td>...</td>\n",
       "      <td>...</td>\n",
       "      <td>...</td>\n",
       "      <td>...</td>\n",
       "      <td>...</td>\n",
       "      <td>...</td>\n",
       "    </tr>\n",
       "    <tr>\n",
       "      <th>2421</th>\n",
       "      <td>201812009645</td>\n",
       "      <td>5528879.0</td>\n",
       "      <td>8565892</td>\n",
       "      <td>1</td>\n",
       "      <td>Service closure Request with BO responsibility</td>\n",
       "      <td>Pending Request for Reservation Closure</td>\n",
       "      <td>BOC</td>\n",
       "      <td>4459722.0</td>\n",
       "      <td>4859757.7</td>\n",
       "    </tr>\n",
       "    <tr>\n",
       "      <th>2422</th>\n",
       "      <td>201812009682</td>\n",
       "      <td>3688959.0</td>\n",
       "      <td>3695089</td>\n",
       "      <td>0</td>\n",
       "      <td>Pending Request for Reservation Closure</td>\n",
       "      <td>Pending Request for Reservation Closure</td>\n",
       "      <td>BOC</td>\n",
       "      <td>3695089.0</td>\n",
       "      <td>3664303.4</td>\n",
       "    </tr>\n",
       "    <tr>\n",
       "      <th>2423</th>\n",
       "      <td>201812009703</td>\n",
       "      <td>1643767.0</td>\n",
       "      <td>1192926</td>\n",
       "      <td>1</td>\n",
       "      <td>Network Adjustment Requested</td>\n",
       "      <td>Pending Request for Reservation Closure</td>\n",
       "      <td>BOC</td>\n",
       "      <td>721748.0</td>\n",
       "      <td>725318.7</td>\n",
       "    </tr>\n",
       "    <tr>\n",
       "      <th>2424</th>\n",
       "      <td>201812009750</td>\n",
       "      <td>3943158.0</td>\n",
       "      <td>5336206</td>\n",
       "      <td>4</td>\n",
       "      <td>Service closure Request with BO responsibility</td>\n",
       "      <td>Pending Request for Reservation Closure</td>\n",
       "      <td>BOC</td>\n",
       "      <td>4220448.0</td>\n",
       "      <td>3943158.0</td>\n",
       "    </tr>\n",
       "    <tr>\n",
       "      <th>2425</th>\n",
       "      <td>201812009753</td>\n",
       "      <td>3592748.0</td>\n",
       "      <td>927457</td>\n",
       "      <td>31</td>\n",
       "      <td>Evaluating Request (NO registered letter)</td>\n",
       "      <td>Authorization Requested</td>\n",
       "      <td>52</td>\n",
       "      <td>428027.0</td>\n",
       "      <td>3592748.0</td>\n",
       "    </tr>\n",
       "  </tbody>\n",
       "</table>\n",
       "<p>2426 rows × 9 columns</p>\n",
       "</div>"
      ],
      "text/plain": [
       "        REQUEST_ID  true_outcome  predicted_outcome  valid_cfes  \\\n",
       "0      20181013679    34601247.0           30241242           0   \n",
       "1      20182005961    17664498.0            3113702          33   \n",
       "2      20182009106    30734448.0           16429956           0   \n",
       "3      20184001796    26923195.0           26495831           0   \n",
       "4      20185003342    23936454.0            1099547           1   \n",
       "...            ...           ...                ...         ...   \n",
       "2421  201812009645     5528879.0            8565892           1   \n",
       "2422  201812009682     3688959.0            3695089           0   \n",
       "2423  201812009703     1643767.0            1192926           1   \n",
       "2424  201812009750     3943158.0            5336206           4   \n",
       "2425  201812009753     3592748.0             927457          31   \n",
       "\n",
       "                                     init_next_activity  \\\n",
       "0               Pending Request for Reservation Closure   \n",
       "1     Service closure Request with network responsib...   \n",
       "2                               Authorization Requested   \n",
       "3        Service closure Request with BO responsibility   \n",
       "4        Service closure Request with BO responsibility   \n",
       "...                                                 ...   \n",
       "2421     Service closure Request with BO responsibility   \n",
       "2422            Pending Request for Reservation Closure   \n",
       "2423                       Network Adjustment Requested   \n",
       "2424     Service closure Request with BO responsibility   \n",
       "2425          Evaluating Request (NO registered letter)   \n",
       "\n",
       "                                       Next_activity Next_resource  \\\n",
       "0            Pending Request for Reservation Closure           BOC   \n",
       "1            Pending Request for Reservation Closure           BOC   \n",
       "2                            Authorization Requested            61   \n",
       "3     Service closure Request with BO responsibility           BOC   \n",
       "4                       Network Adjustment Requested            68   \n",
       "...                                              ...           ...   \n",
       "2421         Pending Request for Reservation Closure           BOC   \n",
       "2422         Pending Request for Reservation Closure           BOC   \n",
       "2423         Pending Request for Reservation Closure           BOC   \n",
       "2424         Pending Request for Reservation Closure           BOC   \n",
       "2425                         Authorization Requested            52   \n",
       "\n",
       "      predicted_rec kpi_followed  \n",
       "0        30241242.0   34470763.9  \n",
       "1          456569.0   17664498.0  \n",
       "2        16429956.0   29269757.6  \n",
       "3        26495831.0   26923195.0  \n",
       "4          440893.0    1812409.5  \n",
       "...             ...          ...  \n",
       "2421      4459722.0    4859757.7  \n",
       "2422      3695089.0    3664303.4  \n",
       "2423       721748.0     725318.7  \n",
       "2424      4220448.0    3943158.0  \n",
       "2425       428027.0    3592748.0  \n",
       "\n",
       "[2426 rows x 9 columns]"
      ]
     },
     "execution_count": 45,
     "metadata": {},
     "output_type": "execute_result"
    }
   ],
   "source": [
    "df_"
   ]
  },
  {
   "cell_type": "code",
   "execution_count": 38,
   "id": "6594a4da",
   "metadata": {},
   "outputs": [],
   "source": [
    "# df_[\"kpi_followed\"].median()*SECONDS_TO_DAYS"
   ]
  },
  {
   "cell_type": "code",
   "execution_count": null,
   "id": "c6b5e6b2",
   "metadata": {},
   "outputs": [],
   "source": [
    "df['pos_status'].value_counts()"
   ]
  },
  {
   "cell_type": "code",
   "execution_count": null,
   "id": "4e299d1c",
   "metadata": {},
   "outputs": [],
   "source": [
    "# df[\"true_outcome\"].median()*SECONDS_TO_DAYS"
   ]
  },
  {
   "cell_type": "code",
   "execution_count": null,
   "id": "879d4687",
   "metadata": {},
   "outputs": [],
   "source": [
    "# df[\"kpi_followed\"].median()*SECONDS_TO_DAYS"
   ]
  },
  {
   "cell_type": "code",
   "execution_count": 571,
   "id": "15019cc5",
   "metadata": {},
   "outputs": [],
   "source": [
    "df_.to_csv(\"./bpi13/result_simulation_ale_09.csv\", index=False)"
   ]
  },
  {
   "cell_type": "code",
   "execution_count": null,
   "id": "c13801f9",
   "metadata": {},
   "outputs": [],
   "source": []
  }
 ],
 "metadata": {
  "kernelspec": {
   "display_name": "base",
   "language": "python",
   "name": "python3"
  },
  "language_info": {
   "codemirror_mode": {
    "name": "ipython",
    "version": 3
   },
   "file_extension": ".py",
   "mimetype": "text/x-python",
   "name": "python",
   "nbconvert_exporter": "python",
   "pygments_lexer": "ipython3",
   "version": "3.11.5"
  }
 },
 "nbformat": 4,
 "nbformat_minor": 5
}
