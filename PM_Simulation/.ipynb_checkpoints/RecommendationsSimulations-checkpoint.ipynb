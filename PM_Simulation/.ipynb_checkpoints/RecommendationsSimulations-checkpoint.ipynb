{
 "cells": [
  {
   "cell_type": "code",
   "execution_count": null,
   "metadata": {},
   "outputs": [],
   "source": [
    "from SimulatorRecs import run_simulation_recommendations\n",
    "\n",
    "from pm4py.objects.log.importer.xes import importer as xes_importer\n",
    "import pm4py\n",
    "import pandas as pd\n",
    "import pickle\n",
    "from utils.bac_utils import fix_bac_res"
   ]
  },
  {
   "cell_type": "code",
   "execution_count": null,
   "metadata": {},
   "outputs": [],
   "source": [
    "log = xes_importer.apply('PATH_EVENTLOG')\n",
    "net, initial_marking, final_marking = pm4py.read_pnml('PATH_PETRINET')\n",
    "recommendations_df = pd.read_csv('PATH_RECOMMENDATIONS')\n",
    "\n",
    "split_time = 'YYYY-MM-DD HH:MM:SS'  # BAC '2019-02-09 02:36:57'\n",
    "\n",
    "with open('PATH_RES_AVAILABILITY', 'rb') as file:\n",
    "    res_availability = pickle.load(file)\n",
    "\n",
    "# log attributes usefull for recommendations\n",
    "# BAC DATA ATTRIBUTES\n",
    "data_attributes = ['CLOSURE_TYPE', 'CLOSURE_REASON']\n",
    "categorical_attributes = ['CLOSURE_TYPE', 'CLOSURE_REASON']   # specify those that are categorical\n",
    "\n",
    "# number of simulations to run\n",
    "n_sim = 10\n",
    "\n",
    "path_simulations = 'PATH_TO_SAVE_SIMULATIONS' # if None it doesn't save"
   ]
  },
  {
   "cell_type": "code",
   "execution_count": null,
   "metadata": {},
   "outputs": [],
   "source": [
    "# PREPROCESSING RECOMMENDATIONS DF\n",
    "\n",
    "recommendations_df = recommendations_df[~(recommendations_df['act_1'].isna())]\n",
    "recommendations_df = recommendations_df[recommendations_df['res_1'] != 'missing']\n",
    "recommendations_df = recommendations_df.fillna('missing')\n",
    "recommendations_df.index = range(len(recommendations_df))\n",
    "recommendations_df['repl_id'] -= 1"
   ]
  },
  {
   "cell_type": "code",
   "execution_count": null,
   "metadata": {},
   "outputs": [],
   "source": [
    "# PREPROCESSING RECOMMENDATIONS DF (BAC)\n",
    "res_columns = [c for c in recommendations_df.columns if c.split('_')[0]=='res']\n",
    "for res in res_columns:\n",
    "    recommendations_df[res] = recommendations_df[res].apply(lambda x: fix_bac_res(x))"
   ]
  },
  {
   "cell_type": "code",
   "execution_count": null,
   "metadata": {},
   "outputs": [],
   "source": [
    "# simulations_df is a list of pandas dataframe: each one correspond to a simulated event log\n",
    "\n",
    "simulations_df = run_simulation_recommendations(log, net, initial_marking, final_marking, recommendations_df, split_time, res_availability, data_attributes, categorical_attributes, n_sim, path_simulations)"
   ]
  }
 ],
 "metadata": {
  "language_info": {
   "name": "python"
  }
 },
 "nbformat": 4,
 "nbformat_minor": 2
}
