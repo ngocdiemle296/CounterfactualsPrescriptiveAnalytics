{
 "cells": [
  {
   "cell_type": "code",
   "execution_count": null,
   "metadata": {},
   "outputs": [],
   "source": [
    "%cd C:/DIEM/recommender_module/"
   ]
  },
  {
   "cell_type": "code",
   "execution_count": 2,
   "metadata": {},
   "outputs": [],
   "source": [
    "import pandas as pd\n",
    "import numpy as np\n",
    "import joblib\n",
    "\n",
    "from utils.resources_functions import finding_ids_with_loop, act_with_res, res_freq, filter_res, find_normal_res\n",
    "from utils.dice_functions import dice_recommendations\n",
    "\n",
    "# Suppress all warnings\n",
    "import warnings\n",
    "warnings.filterwarnings(\"ignore\")\n",
    "%load_ext autoreload\n",
    "%autoreload 2"
   ]
  },
  {
   "cell_type": "code",
   "execution_count": 3,
   "metadata": {},
   "outputs": [],
   "source": [
    "data_folder = 'bpi17'"
   ]
  },
  {
   "cell_type": "code",
   "execution_count": 4,
   "metadata": {},
   "outputs": [],
   "source": [
    "train_data = pd.read_csv(\"./\" + data_folder + \"/train_data.csv\")\n",
    "test_data = pd.read_csv(\"./\" + data_folder + \"/test_log_only_last_act_with_tsplit.csv\")\n",
    "test_log = pd.read_csv(\"./\" + data_folder + \"/test_log_with_tsplit.csv\")"
   ]
  },
  {
   "cell_type": "code",
   "execution_count": 5,
   "metadata": {},
   "outputs": [],
   "source": [
    "# del train_data[\"start_timestamp\"]\n",
    "# del train_data[\"end_timestamp\"]\n",
    "# del test_data[\"start_timestamp\"]\n",
    "# del test_data[\"end_timestamp\"]\n",
    "# del test_log[\"start_timestamp\"]\n",
    "# del test_log[\"end_timestamp\"]"
   ]
  },
  {
   "cell_type": "code",
   "execution_count": 6,
   "metadata": {},
   "outputs": [],
   "source": [
    "# Loading model\n",
    "predictive_model = joblib.load(\"./\" + data_folder + \"/catboost_time.joblib\")"
   ]
  },
  {
   "cell_type": "code",
   "execution_count": 7,
   "metadata": {},
   "outputs": [],
   "source": [
    "# # For BAC\n",
    "# case_id_name = 'REQUEST_ID'\n",
    "# activity_column_name = 'ACTIVITY'\n",
    "# resource_column_name = 'CE_UO'\n",
    "# start_date_name = \"start:timestamp\"\n",
    "# end_date_name = \"time:timestamp\"\n",
    "# outcome_name = \"leadtime\"\n",
    "\n",
    "# For BPI17\n",
    "case_id_name = \"case:concept:name\"\n",
    "activity_column_name = \"concept:name\"\n",
    "resource_column_name = \"org:resource\"\n",
    "start_date_name = \"start:timestamp_\"\n",
    "end_date_name = \"time:timestamp_\"\n",
    "outcome_name = \"leadtime\""
   ]
  },
  {
   "cell_type": "code",
   "execution_count": null,
   "metadata": {},
   "outputs": [],
   "source": [
    "print(\"Number of resources in train data:\",len(train_data[resource_column_name].unique()))"
   ]
  },
  {
   "cell_type": "code",
   "execution_count": null,
   "metadata": {},
   "outputs": [],
   "source": [
    "# List of activities\n",
    "list_activities = list(train_data[activity_column_name].unique())\n",
    "print(\"Number of activities:\", len(list_activities))"
   ]
  },
  {
   "cell_type": "code",
   "execution_count": 10,
   "metadata": {},
   "outputs": [],
   "source": [
    "# # For BAC\n",
    "# continuous_features = ['time_from_start', 'time_from_previous_event(start)', '# ACTIVITY=Service closure Request with network responsibility',\n",
    "#                        \"activity_duration\",\n",
    "#                        '# ACTIVITY=Service closure Request with BO responsibility', '# ACTIVITY=Pending Request for Reservation Closure', '# ACTIVITY=Pending Liquidation Request',\n",
    "#                        '# ACTIVITY=Request completed with account closure', '# ACTIVITY=Request created', '# ACTIVITY=Authorization Requested',\n",
    "#                        '# ACTIVITY=Evaluating Request (NO registered letter)', '# ACTIVITY=Network Adjustment Requested', '# ACTIVITY=Pending Request for acquittance of heirs',\n",
    "#                        '# ACTIVITY=Request deleted', '# ACTIVITY=Back-Office Adjustment Requested', '# ACTIVITY=Evaluating Request (WITH registered letter)',\n",
    "#                        '# ACTIVITY=Request completed with customer recovery', '# ACTIVITY=Pending Request for Network Information']\n",
    "\n",
    "# # For BPI17\n",
    "continuous_features = ['time_from_start',\n",
    "       'time_from_previous_event(start)', 'time_from_midnight', \n",
    "       'event_duration',  '# ACTIVITY=O_Cancelled',\n",
    "       '# ACTIVITY=O_Created', '# ACTIVITY=O_Sent (mail and online)',\n",
    "       '# ACTIVITY=O_Sent (online only)', '# ACTIVITY=A_Submitted',\n",
    "       '# ACTIVITY=A_Concept', '# ACTIVITY=A_Incomplete',\n",
    "\n",
    "       '# ACTIVITY=A_Cancelled', '# ACTIVITY=A_Denied',\n",
    "       '# ACTIVITY=A_Accepted', '# ACTIVITY=O_Returned',\n",
    "       '# ACTIVITY=A_Validating', '# ACTIVITY=A_Create Application',\n",
    "       '# ACTIVITY=O_Accepted', '# ACTIVITY=O_Create Offer',\n",
    "       '# ACTIVITY=A_Complete']"
   ]
  },
  {
   "cell_type": "code",
   "execution_count": 11,
   "metadata": {},
   "outputs": [],
   "source": [
    "result_df = pd.DataFrame() # Empty dataframe for storing results"
   ]
  },
  {
   "cell_type": "code",
   "execution_count": 12,
   "metadata": {},
   "outputs": [],
   "source": [
    "# test_ = test_log.iloc[:5]"
   ]
  },
  {
   "cell_type": "code",
   "execution_count": null,
   "metadata": {},
   "outputs": [],
   "source": [
    "rec_df_ = dice_recommendations(train_data, test_log, test_data, \n",
    "                              threshold = 0.99, \n",
    "                              predictive_model = predictive_model, \n",
    "                              continuous_features = continuous_features, \n",
    "                              dice_method = \"random\", \n",
    "                              REDUCED_KPI_TIME = 0.5, TOTAL_CFS = 100, \n",
    "                              result_df = result_df, \n",
    "                              WINDOW_SIZE = 3, \n",
    "                              cols_to_vary = [\"NEXT_ACTIVITY\", \"NEXT_RESOURCE\"], \n",
    "                              case_id_name = case_id_name, \n",
    "                              activity_column_name = activity_column_name, \n",
    "                              resource_column_name = resource_column_name, \n",
    "                              outcome_name = outcome_name,\n",
    "                              start_date_name = start_date_name, \n",
    "                              end_date_name = end_date_name,\n",
    "                              time_limit = 50*60)"
   ]
  },
  {
   "cell_type": "code",
   "execution_count": null,
   "metadata": {},
   "outputs": [],
   "source": [
    "rec_df_"
   ]
  },
  {
   "cell_type": "code",
   "execution_count": null,
   "metadata": {},
   "outputs": [],
   "source": [
    "rec_df_[\"valid_cfes\"].value_counts()"
   ]
  },
  {
   "cell_type": "code",
   "execution_count": 16,
   "metadata": {},
   "outputs": [],
   "source": [
    "# rec_df_.to_csv(\"./bpi17_results_05_099_3.csv\", index=False)"
   ]
  },
  {
   "cell_type": "code",
   "execution_count": null,
   "metadata": {},
   "outputs": [],
   "source": []
  },
  {
   "cell_type": "code",
   "execution_count": null,
   "metadata": {},
   "outputs": [],
   "source": []
  }
 ],
 "metadata": {
  "kernelspec": {
   "display_name": "venv",
   "language": "python",
   "name": "python3"
  },
  "language_info": {
   "codemirror_mode": {
    "name": "ipython",
    "version": 3
   },
   "file_extension": ".py",
   "mimetype": "text/x-python",
   "name": "python",
   "nbconvert_exporter": "python",
   "pygments_lexer": "ipython3",
   "version": "3.11.9"
  }
 },
 "nbformat": 4,
 "nbformat_minor": 2
}
