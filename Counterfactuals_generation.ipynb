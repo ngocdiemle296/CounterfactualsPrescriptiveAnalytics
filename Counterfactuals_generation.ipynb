{
 "cells": [
  {
   "cell_type": "code",
   "execution_count": 2,
   "metadata": {},
   "outputs": [],
   "source": [
    "import pandas as pd\n",
    "import numpy as np\n",
    "import joblib\n",
    "\n",
    "from utils.resources_functions import finding_ids_with_loop, act_with_res, res_freq, filter_res, find_normal_res\n",
    "from utils.dice_functions import dice_recommendations"
   ]
  },
  {
   "cell_type": "code",
   "execution_count": 3,
   "metadata": {},
   "outputs": [],
   "source": [
    "data_folder = 'bpi17'"
   ]
  },
  {
   "cell_type": "code",
   "execution_count": 4,
   "metadata": {},
   "outputs": [],
   "source": [
    "train_data = pd.read_csv(\"./\" + data_folder + \"/train_data.csv\")\n",
    "test_data = pd.read_csv(\"./\" + data_folder + \"/test_log_only_last_act_with_tsplit.csv\")\n",
    "test_log = pd.read_csv(\"./\" + data_folder + \"/test_log_with_tsplit.csv\")"
   ]
  },
  {
   "cell_type": "code",
   "execution_count": 6,
   "metadata": {},
   "outputs": [],
   "source": [
    "# Loading model\n",
    "predictive_model = joblib.load(\"./\" + data_folder + \"/catboost_time.joblib\")"
   ]
  },
  {
   "cell_type": "code",
   "execution_count": 7,
   "metadata": {},
   "outputs": [],
   "source": [
    "case_id_name = \"case:concept:name\"\n",
    "activity_column_name = \"concept:name\"\n",
    "resource_column_name = \"org:resource\"\n",
    "start_date_name = \"start:timestamp\"\n",
    "end_date_name = \"time:timestamp\"\n",
    "outcome_name = \"leadtime\""
   ]
  },
  {
   "cell_type": "code",
   "execution_count": 11,
   "metadata": {},
   "outputs": [],
   "source": [
    "result_df = pd.DataFrame() # Empty dataframe for storing results"
   ]
  },
  {
   "cell_type": "code",
   "execution_count": null,
   "metadata": {},
   "outputs": [],
   "source": [
    "rec_df = dice_recommendations(train_data, test_log, test_data, \n",
    "                              threshold = 0.99, \n",
    "                              predictive_model = predictive_model, \n",
    "                              continuous_features = continuous_features, \n",
    "                              dice_method = \"random\", \n",
    "                              REDUCED_KPI_TIME = 0.5, TOTAL_CFS = 100, \n",
    "                              result_df = result_df, \n",
    "                              WINDOW_SIZE = 3, \n",
    "                              cols_to_vary = [\"NEXT_ACTIVITY\", \"NEXT_RESOURCE\"], \n",
    "                              case_id_name = case_id_name, \n",
    "                              activity_column_name = activity_column_name, \n",
    "                              resource_column_name = resource_column_name, \n",
    "                              outcome_name = outcome_name,\n",
    "                              start_date_name = start_date_name, \n",
    "                              end_date_name = end_date_name,\n",
    "                              time_limit = 50*60)"
   ]
  },
  {
   "cell_type": "code",
   "execution_count": null,
   "metadata": {},
   "outputs": [],
   "source": []
  },
  {
   "cell_type": "code",
   "execution_count": null,
   "metadata": {},
   "outputs": [],
   "source": []
  }
 ],
 "metadata": {
  "kernelspec": {
   "display_name": "venv",
   "language": "python",
   "name": "python3"
  },
  "language_info": {
   "codemirror_mode": {
    "name": "ipython",
    "version": 3
   },
   "file_extension": ".py",
   "mimetype": "text/x-python",
   "name": "python",
   "nbconvert_exporter": "python",
   "pygments_lexer": "ipython3",
   "version": "3.11.9"
  }
 },
 "nbformat": 4,
 "nbformat_minor": 2
}
